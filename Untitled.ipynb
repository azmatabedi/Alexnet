{
 "cells": [
  {
   "cell_type": "code",
   "execution_count": 36,
   "id": "ac707ac6",
   "metadata": {},
   "outputs": [],
   "source": [
    "import pandas as pd\n",
    "import numpy as np\n",
    "import matplotlib.pyplot as plt\n",
    "import math\n",
    "import statistics\n",
    "from sklearn.decomposition import PCA\n",
    "from sklearn.ensemble import RandomForestClassifier as RB\n",
    "#from sklearn.decomposition import KernelPCA\n",
    "from sklearn.model_selection import train_test_split\n",
    "from imblearn.over_sampling import SMOTE as SM\n",
    "from sklearn.ensemble import RandomForestClassifier as RF,GradientBoostingClassifier as GB,ExtraTreesClassifier as ET\n",
    "from sklearn.metrics import f1_score\n",
    "from sklearn.cluster import KMeans\n",
    "from sklearn.metrics.pairwise import euclidean_distances\n",
    "from sklearn.neural_network import MLPClassifier as MP\n",
    "from sklearn.metrics import precision_score, recall_score\n",
    "from sklearn.metrics import plot_confusion_matrix, classification_report, roc_auc_score, roc_curve, confusion_matrix\n",
    "from sklearn.metrics import f1_score,accuracy_score"
   ]
  },
  {
   "cell_type": "code",
   "execution_count": 2,
   "id": "e8a19fd3",
   "metadata": {},
   "outputs": [
    {
     "data": {
      "text/html": [
       "<div>\n",
       "<style scoped>\n",
       "    .dataframe tbody tr th:only-of-type {\n",
       "        vertical-align: middle;\n",
       "    }\n",
       "\n",
       "    .dataframe tbody tr th {\n",
       "        vertical-align: top;\n",
       "    }\n",
       "\n",
       "    .dataframe thead th {\n",
       "        text-align: right;\n",
       "    }\n",
       "</style>\n",
       "<table border=\"1\" class=\"dataframe\">\n",
       "  <thead>\n",
       "    <tr style=\"text-align: right;\">\n",
       "      <th></th>\n",
       "      <th>0</th>\n",
       "      <th>1</th>\n",
       "      <th>2</th>\n",
       "      <th>3</th>\n",
       "      <th>4</th>\n",
       "      <th>5</th>\n",
       "      <th>6</th>\n",
       "      <th>7</th>\n",
       "      <th>8</th>\n",
       "      <th>9</th>\n",
       "      <th>...</th>\n",
       "      <th>1027</th>\n",
       "      <th>1028</th>\n",
       "      <th>1029</th>\n",
       "      <th>1030</th>\n",
       "      <th>1031</th>\n",
       "      <th>1032</th>\n",
       "      <th>1033</th>\n",
       "      <th>1034</th>\n",
       "      <th>1035</th>\n",
       "      <th>FLAG</th>\n",
       "    </tr>\n",
       "  </thead>\n",
       "  <tbody>\n",
       "    <tr>\n",
       "      <th>0</th>\n",
       "      <td>-0.300497</td>\n",
       "      <td>-2.147502</td>\n",
       "      <td>-2.147502</td>\n",
       "      <td>-2.147502</td>\n",
       "      <td>-2.147502</td>\n",
       "      <td>-0.746326</td>\n",
       "      <td>-0.184697</td>\n",
       "      <td>2.449746</td>\n",
       "      <td>-2.147502</td>\n",
       "      <td>0.220602</td>\n",
       "      <td>...</td>\n",
       "      <td>-0.694216</td>\n",
       "      <td>-1.076355</td>\n",
       "      <td>-1.064775</td>\n",
       "      <td>-1.047405</td>\n",
       "      <td>-0.850545</td>\n",
       "      <td>-1.012665</td>\n",
       "      <td>-1.174784</td>\n",
       "      <td>0.0</td>\n",
       "      <td>0.0</td>\n",
       "      <td>0</td>\n",
       "    </tr>\n",
       "    <tr>\n",
       "      <th>1</th>\n",
       "      <td>-0.564339</td>\n",
       "      <td>-0.564339</td>\n",
       "      <td>-0.564339</td>\n",
       "      <td>-0.564339</td>\n",
       "      <td>-0.564339</td>\n",
       "      <td>-0.564339</td>\n",
       "      <td>-0.564339</td>\n",
       "      <td>-0.564339</td>\n",
       "      <td>-0.564339</td>\n",
       "      <td>-0.564339</td>\n",
       "      <td>...</td>\n",
       "      <td>-0.564339</td>\n",
       "      <td>-0.564339</td>\n",
       "      <td>-0.564339</td>\n",
       "      <td>-0.564339</td>\n",
       "      <td>-0.564339</td>\n",
       "      <td>-0.564339</td>\n",
       "      <td>-0.564339</td>\n",
       "      <td>0.0</td>\n",
       "      <td>0.0</td>\n",
       "      <td>0</td>\n",
       "    </tr>\n",
       "    <tr>\n",
       "      <th>2</th>\n",
       "      <td>-0.288283</td>\n",
       "      <td>-0.183648</td>\n",
       "      <td>-0.486422</td>\n",
       "      <td>-0.891604</td>\n",
       "      <td>-0.468612</td>\n",
       "      <td>-0.390692</td>\n",
       "      <td>-0.597736</td>\n",
       "      <td>-0.524269</td>\n",
       "      <td>-0.299415</td>\n",
       "      <td>0.101315</td>\n",
       "      <td>...</td>\n",
       "      <td>0.061242</td>\n",
       "      <td>0.261607</td>\n",
       "      <td>0.130257</td>\n",
       "      <td>0.372921</td>\n",
       "      <td>0.205950</td>\n",
       "      <td>-0.183648</td>\n",
       "      <td>-0.270473</td>\n",
       "      <td>0.0</td>\n",
       "      <td>0.0</td>\n",
       "      <td>0</td>\n",
       "    </tr>\n",
       "    <tr>\n",
       "      <th>3</th>\n",
       "      <td>-1.388752</td>\n",
       "      <td>-1.388752</td>\n",
       "      <td>-1.388752</td>\n",
       "      <td>-1.388752</td>\n",
       "      <td>-1.388752</td>\n",
       "      <td>-1.388752</td>\n",
       "      <td>-1.388752</td>\n",
       "      <td>-1.388752</td>\n",
       "      <td>-1.388752</td>\n",
       "      <td>-1.388752</td>\n",
       "      <td>...</td>\n",
       "      <td>-1.029737</td>\n",
       "      <td>0.429592</td>\n",
       "      <td>-0.946632</td>\n",
       "      <td>-0.278465</td>\n",
       "      <td>-0.969901</td>\n",
       "      <td>0.280002</td>\n",
       "      <td>-1.079600</td>\n",
       "      <td>0.0</td>\n",
       "      <td>0.0</td>\n",
       "      <td>0</td>\n",
       "    </tr>\n",
       "    <tr>\n",
       "      <th>4</th>\n",
       "      <td>1.471074</td>\n",
       "      <td>2.007122</td>\n",
       "      <td>1.900837</td>\n",
       "      <td>2.275146</td>\n",
       "      <td>1.984016</td>\n",
       "      <td>1.540391</td>\n",
       "      <td>2.007122</td>\n",
       "      <td>1.600465</td>\n",
       "      <td>2.150376</td>\n",
       "      <td>1.674403</td>\n",
       "      <td>...</td>\n",
       "      <td>-0.331155</td>\n",
       "      <td>-0.026162</td>\n",
       "      <td>-0.076995</td>\n",
       "      <td>0.144818</td>\n",
       "      <td>-0.086237</td>\n",
       "      <td>-0.345018</td>\n",
       "      <td>-0.345018</td>\n",
       "      <td>0.0</td>\n",
       "      <td>0.0</td>\n",
       "      <td>0</td>\n",
       "    </tr>\n",
       "    <tr>\n",
       "      <th>...</th>\n",
       "      <td>...</td>\n",
       "      <td>...</td>\n",
       "      <td>...</td>\n",
       "      <td>...</td>\n",
       "      <td>...</td>\n",
       "      <td>...</td>\n",
       "      <td>...</td>\n",
       "      <td>...</td>\n",
       "      <td>...</td>\n",
       "      <td>...</td>\n",
       "      <td>...</td>\n",
       "      <td>...</td>\n",
       "      <td>...</td>\n",
       "      <td>...</td>\n",
       "      <td>...</td>\n",
       "      <td>...</td>\n",
       "      <td>...</td>\n",
       "      <td>...</td>\n",
       "      <td>...</td>\n",
       "      <td>...</td>\n",
       "      <td>...</td>\n",
       "    </tr>\n",
       "    <tr>\n",
       "      <th>7225</th>\n",
       "      <td>-0.563271</td>\n",
       "      <td>-0.563271</td>\n",
       "      <td>-0.563271</td>\n",
       "      <td>-0.563271</td>\n",
       "      <td>-0.563271</td>\n",
       "      <td>-0.563271</td>\n",
       "      <td>-0.563271</td>\n",
       "      <td>-0.563271</td>\n",
       "      <td>-0.563271</td>\n",
       "      <td>-0.563271</td>\n",
       "      <td>...</td>\n",
       "      <td>-0.563271</td>\n",
       "      <td>-0.563271</td>\n",
       "      <td>-0.563271</td>\n",
       "      <td>-0.563271</td>\n",
       "      <td>-0.563271</td>\n",
       "      <td>-0.563271</td>\n",
       "      <td>-0.563271</td>\n",
       "      <td>0.0</td>\n",
       "      <td>0.0</td>\n",
       "      <td>1</td>\n",
       "    </tr>\n",
       "    <tr>\n",
       "      <th>7226</th>\n",
       "      <td>-0.434879</td>\n",
       "      <td>-0.434879</td>\n",
       "      <td>-0.434879</td>\n",
       "      <td>-0.434879</td>\n",
       "      <td>-0.434879</td>\n",
       "      <td>-0.434879</td>\n",
       "      <td>-0.434879</td>\n",
       "      <td>-0.434879</td>\n",
       "      <td>-0.434879</td>\n",
       "      <td>-0.434879</td>\n",
       "      <td>...</td>\n",
       "      <td>-0.434879</td>\n",
       "      <td>-0.434879</td>\n",
       "      <td>-0.434879</td>\n",
       "      <td>-0.434879</td>\n",
       "      <td>-0.426733</td>\n",
       "      <td>-0.434879</td>\n",
       "      <td>-0.434879</td>\n",
       "      <td>0.0</td>\n",
       "      <td>0.0</td>\n",
       "      <td>1</td>\n",
       "    </tr>\n",
       "    <tr>\n",
       "      <th>7227</th>\n",
       "      <td>-0.478339</td>\n",
       "      <td>-0.478339</td>\n",
       "      <td>-0.478339</td>\n",
       "      <td>-0.478339</td>\n",
       "      <td>-0.478339</td>\n",
       "      <td>-0.478339</td>\n",
       "      <td>-0.478339</td>\n",
       "      <td>-0.478339</td>\n",
       "      <td>-0.478339</td>\n",
       "      <td>-0.478339</td>\n",
       "      <td>...</td>\n",
       "      <td>4.241114</td>\n",
       "      <td>4.903518</td>\n",
       "      <td>4.246912</td>\n",
       "      <td>3.542472</td>\n",
       "      <td>4.565794</td>\n",
       "      <td>4.549849</td>\n",
       "      <td>5.148478</td>\n",
       "      <td>0.0</td>\n",
       "      <td>0.0</td>\n",
       "      <td>1</td>\n",
       "    </tr>\n",
       "    <tr>\n",
       "      <th>7228</th>\n",
       "      <td>-0.945341</td>\n",
       "      <td>-0.386460</td>\n",
       "      <td>-0.244990</td>\n",
       "      <td>-0.296918</td>\n",
       "      <td>-0.440478</td>\n",
       "      <td>-0.670027</td>\n",
       "      <td>-0.579545</td>\n",
       "      <td>-0.338189</td>\n",
       "      <td>-0.340592</td>\n",
       "      <td>-0.528244</td>\n",
       "      <td>...</td>\n",
       "      <td>1.433324</td>\n",
       "      <td>1.379828</td>\n",
       "      <td>1.693382</td>\n",
       "      <td>2.793695</td>\n",
       "      <td>2.272742</td>\n",
       "      <td>1.822942</td>\n",
       "      <td>2.248084</td>\n",
       "      <td>0.0</td>\n",
       "      <td>0.0</td>\n",
       "      <td>1</td>\n",
       "    </tr>\n",
       "    <tr>\n",
       "      <th>7229</th>\n",
       "      <td>-0.800995</td>\n",
       "      <td>-0.760865</td>\n",
       "      <td>-0.977566</td>\n",
       "      <td>-0.979172</td>\n",
       "      <td>-0.860387</td>\n",
       "      <td>-0.886070</td>\n",
       "      <td>-0.796179</td>\n",
       "      <td>-0.764075</td>\n",
       "      <td>-0.897307</td>\n",
       "      <td>-0.762470</td>\n",
       "      <td>...</td>\n",
       "      <td>0.126809</td>\n",
       "      <td>0.078653</td>\n",
       "      <td>-0.321041</td>\n",
       "      <td>0.069022</td>\n",
       "      <td>0.009630</td>\n",
       "      <td>-0.179784</td>\n",
       "      <td>0.608368</td>\n",
       "      <td>0.0</td>\n",
       "      <td>0.0</td>\n",
       "      <td>1</td>\n",
       "    </tr>\n",
       "  </tbody>\n",
       "</table>\n",
       "<p>7230 rows × 1037 columns</p>\n",
       "</div>"
      ],
      "text/plain": [
       "             0         1         2         3         4         5         6  \\\n",
       "0    -0.300497 -2.147502 -2.147502 -2.147502 -2.147502 -0.746326 -0.184697   \n",
       "1    -0.564339 -0.564339 -0.564339 -0.564339 -0.564339 -0.564339 -0.564339   \n",
       "2    -0.288283 -0.183648 -0.486422 -0.891604 -0.468612 -0.390692 -0.597736   \n",
       "3    -1.388752 -1.388752 -1.388752 -1.388752 -1.388752 -1.388752 -1.388752   \n",
       "4     1.471074  2.007122  1.900837  2.275146  1.984016  1.540391  2.007122   \n",
       "...        ...       ...       ...       ...       ...       ...       ...   \n",
       "7225 -0.563271 -0.563271 -0.563271 -0.563271 -0.563271 -0.563271 -0.563271   \n",
       "7226 -0.434879 -0.434879 -0.434879 -0.434879 -0.434879 -0.434879 -0.434879   \n",
       "7227 -0.478339 -0.478339 -0.478339 -0.478339 -0.478339 -0.478339 -0.478339   \n",
       "7228 -0.945341 -0.386460 -0.244990 -0.296918 -0.440478 -0.670027 -0.579545   \n",
       "7229 -0.800995 -0.760865 -0.977566 -0.979172 -0.860387 -0.886070 -0.796179   \n",
       "\n",
       "             7         8         9  ...      1027      1028      1029  \\\n",
       "0     2.449746 -2.147502  0.220602  ... -0.694216 -1.076355 -1.064775   \n",
       "1    -0.564339 -0.564339 -0.564339  ... -0.564339 -0.564339 -0.564339   \n",
       "2    -0.524269 -0.299415  0.101315  ...  0.061242  0.261607  0.130257   \n",
       "3    -1.388752 -1.388752 -1.388752  ... -1.029737  0.429592 -0.946632   \n",
       "4     1.600465  2.150376  1.674403  ... -0.331155 -0.026162 -0.076995   \n",
       "...        ...       ...       ...  ...       ...       ...       ...   \n",
       "7225 -0.563271 -0.563271 -0.563271  ... -0.563271 -0.563271 -0.563271   \n",
       "7226 -0.434879 -0.434879 -0.434879  ... -0.434879 -0.434879 -0.434879   \n",
       "7227 -0.478339 -0.478339 -0.478339  ...  4.241114  4.903518  4.246912   \n",
       "7228 -0.338189 -0.340592 -0.528244  ...  1.433324  1.379828  1.693382   \n",
       "7229 -0.764075 -0.897307 -0.762470  ...  0.126809  0.078653 -0.321041   \n",
       "\n",
       "          1030      1031      1032      1033  1034  1035  FLAG  \n",
       "0    -1.047405 -0.850545 -1.012665 -1.174784   0.0   0.0     0  \n",
       "1    -0.564339 -0.564339 -0.564339 -0.564339   0.0   0.0     0  \n",
       "2     0.372921  0.205950 -0.183648 -0.270473   0.0   0.0     0  \n",
       "3    -0.278465 -0.969901  0.280002 -1.079600   0.0   0.0     0  \n",
       "4     0.144818 -0.086237 -0.345018 -0.345018   0.0   0.0     0  \n",
       "...        ...       ...       ...       ...   ...   ...   ...  \n",
       "7225 -0.563271 -0.563271 -0.563271 -0.563271   0.0   0.0     1  \n",
       "7226 -0.434879 -0.426733 -0.434879 -0.434879   0.0   0.0     1  \n",
       "7227  3.542472  4.565794  4.549849  5.148478   0.0   0.0     1  \n",
       "7228  2.793695  2.272742  1.822942  2.248084   0.0   0.0     1  \n",
       "7229  0.069022  0.009630 -0.179784  0.608368   0.0   0.0     1  \n",
       "\n",
       "[7230 rows x 1037 columns]"
      ]
     },
     "execution_count": 2,
     "metadata": {},
     "output_type": "execute_result"
    }
   ],
   "source": [
    "balance_data=pd.read_csv('Balanced_data.csv')\n",
    "#balance_data\n",
    "balance_data=balance_data.drop(['Unnamed: 0'],axis=1)\n",
    "balance_data\n",
    "#kWhs,labels=rus.fit_resample(kWhs,labels)\n",
    "#labels.value_counts().plot(kind='bar',title='count \"Target\"')"
   ]
  },
  {
   "cell_type": "code",
   "execution_count": 3,
   "id": "18bd0424",
   "metadata": {},
   "outputs": [],
   "source": [
    "labels = balance_data.FLAG\n",
    "balance_data_flag=balance_data.drop(['FLAG'],axis=1)\n",
    "kWhs = balance_data_flag"
   ]
  },
  {
   "cell_type": "code",
   "execution_count": 4,
   "id": "ce914d11",
   "metadata": {},
   "outputs": [
    {
     "data": {
      "text/plain": [
       "<AxesSubplot:title={'center':'count \"Target\"'}>"
      ]
     },
     "execution_count": 4,
     "metadata": {},
     "output_type": "execute_result"
    },
    {
     "data": {
      "image/png": "[encoded data removed]",
      "text/plain": [
       "<Figure size 432x288 with 1 Axes>"
      ]
     },
     "metadata": {
      "needs_background": "light"
     },
     "output_type": "display_data"
    }
   ],
   "source": [
    "labels.value_counts().plot(kind='bar',title='count \"Target\"')"
   ]
  },
  {
   "cell_type": "code",
   "execution_count": 6,
   "id": "816bc56d",
   "metadata": {},
   "outputs": [],
   "source": [
    "X_train,X_test,Y_train,Y_test=train_test_split(kWhs,labels,test_size=0.20)"
   ]
  },
  {
   "cell_type": "code",
   "execution_count": 44,
   "id": "d3f8bb5d",
   "metadata": {},
   "outputs": [
    {
     "data": {
      "text/plain": [
       "ExtraTreesClassifier(n_estimators=10)"
      ]
     },
     "execution_count": 44,
     "metadata": {},
     "output_type": "execute_result"
    }
   ],
   "source": [
    "model=ET(n_estimators=10)\n",
    "model.fit(X_train,Y_train)"
   ]
  },
  {
   "cell_type": "code",
   "execution_count": 8,
   "id": "4cdbbe32",
   "metadata": {},
   "outputs": [
    {
     "data": {
      "text/plain": [
       "0.648686030428769"
      ]
     },
     "execution_count": 8,
     "metadata": {},
     "output_type": "execute_result"
    }
   ],
   "source": [
    "model.score(X_test,Y_test)"
   ]
  },
  {
   "cell_type": "code",
   "execution_count": 45,
   "id": "e6daf879",
   "metadata": {
    "scrolled": true
   },
   "outputs": [
    {
     "name": "stdout",
     "output_type": "stream",
     "text": [
      "0.613670133729569\n",
      "0.6941176470588235\n",
      "0.640387275242047\n",
      "0.5499334221038615\n"
     ]
    }
   ],
   "source": [
    "ypre=model.predict(X_test)\n",
    "print(f1_score(Y_test,ypre))\n",
    "print(precision_score(Y_test,ypre))\n",
    "print(accuracy_score(Y_test,ypre))\n",
    "print(recall_score(Y_test,ypre))"
   ]
  },
  {
   "cell_type": "code",
   "execution_count": 14,
   "id": "7f5aafc9",
   "metadata": {},
   "outputs": [
    {
     "data": {
      "image/png": "[encoded data removed]",
      "text/plain": [
       "<Figure size 720x360 with 1 Axes>"
      ]
     },
     "metadata": {
      "needs_background": "light"
     },
     "output_type": "display_data"
    }
   ],
   "source": [
    "precision=precision_score(Y_test,ypre)\n",
    "recall=recall_score(Y_test,ypre)\n",
    "f1=f1_score(Y_test,ypre)\n",
    "   \n",
    "   \n",
    "data = {'Precision':precision, 'recall':recall, 'f1_score':f1}\n",
    "courses = list(data.keys())\n",
    "values = list(data.values())\n",
    "  \n",
    "fig = plt.figure(figsize = (10, 5))\n",
    " \n",
    "# creating the bar plot\n",
    "plt.bar(courses, values, color ='maroon',\n",
    "        width = 0.4)\n",
    "    \n",
    "plt.xlabel(\"performance chart\")\n",
    "plt.ylabel(\"percentage value\")\n",
    "plt.title(\"Confusion Matrics\")\n",
    "plt.show() "
   ]
  },
  {
   "cell_type": "code",
   "execution_count": 46,
   "id": "9d77c9c9",
   "metadata": {},
   "outputs": [
    {
     "data": {
      "text/plain": [
       "RandomForestClassifier(n_estimators=10)"
      ]
     },
     "execution_count": 46,
     "metadata": {},
     "output_type": "execute_result"
    }
   ],
   "source": [
    "model = RF(n_estimators = 10)\n",
    "# Train the model on training data\n",
    "model.fit(X_train, Y_train)"
   ]
  },
  {
   "cell_type": "code",
   "execution_count": 47,
   "id": "4131711f",
   "metadata": {},
   "outputs": [
    {
     "name": "stdout",
     "output_type": "stream",
     "text": [
      "[0 0 1 ... 0 1 0]\n"
     ]
    }
   ],
   "source": [
    "ypre=model.predict(X_test)\n",
    "print(ypre)\n",
    "\n"
   ]
  },
  {
   "cell_type": "code",
   "execution_count": 48,
   "id": "cbac2c56",
   "metadata": {},
   "outputs": [
    {
     "name": "stdout",
     "output_type": "stream",
     "text": [
      "0.5938931297709924\n",
      "0.6958855098389982\n",
      "0.632088520055325\n",
      "0.5179760319573902\n"
     ]
    }
   ],
   "source": [
    "print(f1_score(Y_test,ypre))\n",
    "print(precision_score(Y_test,ypre))\n",
    "print(accuracy_score(Y_test,ypre))\n",
    "print(recall_score(Y_test,ypre))"
   ]
  },
  {
   "cell_type": "code",
   "execution_count": 35,
   "id": "85966d72",
   "metadata": {},
   "outputs": [
    {
     "data": {
      "image/png": "[encoded data removed]",
      "text/plain": [
       "<Figure size 720x360 with 1 Axes>"
      ]
     },
     "metadata": {
      "needs_background": "light"
     },
     "output_type": "display_data"
    }
   ],
   "source": [
    "f1=f1_score(Y_test,ypre)\n",
    "precision=precision_score(Y_test,ypre)\n",
    "recall=recall_score(Y_test,ypre)\n",
    "   \n",
    "   \n",
    "data = {'Precision':precision, 'recall':recall, 'f1_score':f1}\n",
    "courses = list(data.keys())\n",
    "values = list(data.values())\n",
    "  \n",
    "fig = plt.figure(figsize = (10, 5))\n",
    " \n",
    "# creating the bar plot\n",
    "plt.bar(courses, values, color ='maroon',\n",
    "        width = 0.4)\n",
    "    \n",
    "plt.xlabel(\"performance chart\")\n",
    "plt.ylabel(\"percentage value\")\n",
    "plt.title(\"Confusion Matrics\")\n",
    "plt.show() "
   ]
  },
  {
   "cell_type": "code",
   "execution_count": 54,
   "id": "223656e3",
   "metadata": {},
   "outputs": [
    {
     "data": {
      "text/plain": [
       "GradientBoostingClassifier(n_estimators=10)"
      ]
     },
     "execution_count": 54,
     "metadata": {},
     "output_type": "execute_result"
    }
   ],
   "source": [
    "model = GB(n_estimators = 10)\n",
    "# Train the model on training data\n",
    "model.fit(X_train, Y_train)"
   ]
  },
  {
   "cell_type": "code",
   "execution_count": 56,
   "id": "d6518b49",
   "metadata": {},
   "outputs": [
    {
     "data": {
      "text/plain": [
       "MLPClassifier(max_iter=300, random_state=1)"
      ]
     },
     "execution_count": 56,
     "metadata": {},
     "output_type": "execute_result"
    }
   ],
   "source": [
    "model=MP(random_state=1,max_iter=300)\n",
    "model.fit(X_train,Y_train)\n"
   ]
  },
  {
   "cell_type": "code",
   "execution_count": 58,
   "id": "3d222aa5",
   "metadata": {},
   "outputs": [],
   "source": [
    "ypre=model.predict(X_test)"
   ]
  },
  {
   "cell_type": "code",
   "execution_count": 59,
   "id": "0b026770",
   "metadata": {},
   "outputs": [
    {
     "name": "stdout",
     "output_type": "stream",
     "text": [
      "0.7150610583446404\n",
      "0.7289073305670816\n",
      "0.7095435684647303\n",
      "0.7017310252996005\n"
     ]
    },
    {
     "data": {
      "image/png": "[encoded data removed]",
      "text/plain": [
       "<Figure size 720x360 with 1 Axes>"
      ]
     },
     "metadata": {
      "needs_background": "light"
     },
     "output_type": "display_data"
    }
   ],
   "source": [
    "f1=f1_score(Y_test,ypre)\n",
    "precision=precision_score(Y_test,ypre)\n",
    "recall=recall_score(Y_test,ypre)\n",
    "\n",
    "\n",
    "print(f1_score(Y_test,ypre))\n",
    "print(precision_score(Y_test,ypre))\n",
    "print(accuracy_score(Y_test,ypre))\n",
    "print(recall_score(Y_test,ypre))\n",
    "   \n",
    "data = {'Precision':precision, 'recall':recall, 'f1_score':f1}\n",
    "courses = list(data.keys())\n",
    "values = list(data.values())\n",
    "  \n",
    "fig = plt.figure(figsize = (10, 5))\n",
    " \n",
    "# creating the bar plot\n",
    "plt.bar(courses, values, color ='maroon',\n",
    "        width = 0.4)\n",
    "    \n",
    "plt.xlabel(\"performance chart\")\n",
    "plt.ylabel(\"percentage value\")\n",
    "plt.title(\"Confusion Matrics\")\n",
    "plt.show() "
   ]
  },
  {
   "cell_type": "code",
   "execution_count": 111,
   "id": "2a3a2339",
   "metadata": {},
   "outputs": [
    {
     "data": {
      "image/png": "[encoded data removed]",
      "text/plain": [
       "<Figure size 432x288 with 1 Axes>"
      ]
     },
     "metadata": {
      "needs_background": "light"
     },
     "output_type": "display_data"
    }
   ],
   "source": [
    "result=['Precision','Recall','F1_Score','Acuuracy']\n",
    "Alexnet=[0.89,0.86,0.84,.86]\n",
    "Tree=[0.7,.55,0.61,0.64]\n",
    "Random=[.70,.61,.60,.63]\n",
    "Gradient=[.70,.52,.59,.63]\n",
    "MPL=[.73,.70,.72,.71]\n",
    "\n",
    "\n",
    "\n",
    "\n",
    "x_axis = np.arange(len(result))\n",
    "\n",
    "# Multi bar Chart\n",
    "\n",
    "plt.bar(x_axis -0.30, Alexnet, width=0.2, label = 'Alexnet')\n",
    "plt.bar(x_axis -0.1, Tree, width=0.2, label = 'Tree')\n",
    "plt.bar(x_axis -0.0, Random, width=0.2, label = 'Random')\n",
    "plt.bar(x_axis +0.10, Gradient, width=0.2, label = 'Gradient')\n",
    "plt.bar(x_axis +0.20, MPL, width=0.2, label = 'MPL')\n",
    "\n",
    "# Xticks\n",
    "\n",
    "plt.xticks(x_axis, result)\n",
    "plt.ylabel(\"Performance\")\n",
    "plt.xlabel(\"Evalution Criteria\")\n",
    "plt.title(\"Comparision Between Differenct Models\")\n",
    "# Add legend\n",
    "\n",
    "plt.legend([\"Alexnet\",\"ExtraTreeClassifier\",\"RandomForest\",\"GradientBostingClassifier\",\"MPL\"], ncol=1, loc=\"upper left\", bbox_to_anchor=(1,1))\n",
    "\n",
    "# Display\n",
    "\n",
    "plt.show()\n",
    "\n"
   ]
  },
  {
   "cell_type": "code",
   "execution_count": null,
   "id": "c223728c",
   "metadata": {},
   "outputs": [],
   "source": []
  },
  {
   "cell_type": "code",
   "execution_count": null,
   "id": "66420c79",
   "metadata": {},
   "outputs": [],
   "source": []
  }
 ],
 "metadata": {
  "kernelspec": {
   "display_name": "Python 3",
   "language": "python",
   "name": "python3"
  },
  "language_info": {
   "codemirror_mode": {
    "name": "ipython",
    "version": 3
   },
   "file_extension": ".py",
   "mimetype": "text/x-python",
   "name": "python",
   "nbconvert_exporter": "python",
   "pygments_lexer": "ipython3",
   "version": "3.8.8"
  }
 },
 "nbformat": 4,
 "nbformat_minor": 5
}
